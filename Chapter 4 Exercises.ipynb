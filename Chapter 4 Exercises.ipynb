{
 "cells": [
  {
   "cell_type": "markdown",
   "metadata": {},
   "source": [
    "## Chapter 4 - Training Models\n",
    "---\n",
    "\n",
    "* **1. What Linear Regression training algorithm can you use if you have a training set with millions of features?**\n",
    "> Gradient Descent training algorithms (e.g. Batch, Stochastic, Mini-Batch) are all well suited to training a Linear Regression model with a large number of features, whereas using the Normal Equation doesn't scale well and is best suited to data with fewer features. \n",
    "\n",
    "* **2. Suppose the features in your training set have very different scales. What algorithms might suffer from this, and how? What can you do about it?**\n",
    "> Gradient Descent algorithms require scaled data as they perform very poorly otherwise, either taking an extremely long time to reach the optimal model parameters or not doing so at all. This eventuality can be avoided by scaling the features in the data during preprocessing (e.g. by using a scaling function from scikit-learn) so they all fall within a similar range of values.\n",
    "\n",
    "* **3. Can Gradient Descent get stuck in a local minimum when training a Logistic Regression model?**\n",
    "> No, as the cost function for Logistic Regression (the log-loss function) is convex and therefore only has a global minimum, which a Gradient Descent algorithm will always find given enough training time and learning rate that's not too large.\n",
    "\n",
    "* **4. Do all Gradient Descent algorithms lead to the same model provided you let them run long enough?**\n",
    "> No, they do not. Batch Gradient Descent will descend smoothly towards the optimal parameters due to the fact it samples the entire training set at every iteration, whereas Stochastic GD and Mini-Batch sample a single random instance and a random batch of instances respectively, and due to this randomness, these algorithms don't settle at the global minimum like Batch GD does, they 'jump' around the minimum, never truly converging.\n",
    "\n",
    "5. Suppose you use Batch Gradient Descent and you plot the validation error at every epoch. If you notice that the validation error consistently goes up, what is likely going on? How can you fix this?**\n",
    "> \n",
    "\n",
    "* **6. Is it a good idea to stop Mini-batch Gradient Descent immediately when the validation error goes up?**\n",
    "> A\n",
    "\n",
    "* **7. Which Gradient Descent algorithm (among those we discussed) will reach the vicinity of the optimal solution the fastest? Which will actually converge? How can you make the others converge as well?**\n",
    "> A\n",
    "\n",
    "* **8. Suppose you are using Polynomial Regression. You plot the learning curves and you notice that there is a large gap between the training error and the validation error. What is happening? What are three ways to solve this?**\n",
    "> A\n",
    "\n",
    "* **9. Suppose you are using Ridge Regression and you notice that the training error and the validation error are almost equal and fairly high. Would you say that the model suffers from high bias or high variance? Should you increase the regularization hyperparameter α or reduce it?**\n",
    "> A\n",
    "\n",
    "* **10. Why would you want to use:** \n",
    "  * Ridge Regression instead of Linear Regression?\n",
    "  * Lasso instead of Ridge Regression?\n",
    "  * Elastic Net instead of Lasso?\n",
    "> A\n",
    "\n",
    "* **11. Suppose you want to classify pictures as outdoor/indoor and daytime/nighttime. Should you implement two Logistic Regression classifiers or one Softmax Regression classifier?**\n",
    "> This is a multioutput problem, as there are two different classes for each of the two outputs, therefore this is suited to using two Logistic Regression classifiers, not a multinomial/Softmax Regression classifier which is used for multiclass problems.\n",
    "\n",
    "* **12. Implement Batch Gradient Descent with early stopping for Softmax Regression (without using Scikit-Learn).**"
   ]
  },
  {
   "cell_type": "code",
   "execution_count": null,
   "metadata": {},
   "outputs": [],
   "source": []
  }
 ],
 "metadata": {
  "kernelspec": {
   "display_name": "Python 3",
   "language": "python",
   "name": "python3"
  },
  "language_info": {
   "codemirror_mode": {
    "name": "ipython",
    "version": 3
   },
   "file_extension": ".py",
   "mimetype": "text/x-python",
   "name": "python",
   "nbconvert_exporter": "python",
   "pygments_lexer": "ipython3",
   "version": "3.6.8"
  }
 },
 "nbformat": 4,
 "nbformat_minor": 2
}
