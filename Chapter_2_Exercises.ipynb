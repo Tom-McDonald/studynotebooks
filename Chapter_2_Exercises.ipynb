{
  "nbformat": 4,
  "nbformat_minor": 0,
  "metadata": {
    "colab": {
      "name": "Chapter 2 Exercises.ipynb",
      "version": "0.3.2",
      "provenance": [],
      "collapsed_sections": [],
      "include_colab_link": true
    },
    "kernelspec": {
      "name": "python3",
      "display_name": "Python 3"
    },
    "accelerator": "GPU"
  },
  "cells": [
    {
      "cell_type": "markdown",
      "metadata": {
        "id": "view-in-github",
        "colab_type": "text"
      },
      "source": [
        "<a href=\"https://colab.research.google.com/github/Tom-McDonald/studynotebooks/blob/master/Chapter_2_Exercises.ipynb\" target=\"_parent\"><img src=\"https://colab.research.google.com/assets/colab-badge.svg\" alt=\"Open In Colab\"/></a>"
      ]
    },
    {
      "metadata": {
        "id": "IPi7fSqk5LgM",
        "colab_type": "text"
      },
      "cell_type": "markdown",
      "source": [
        "## Chapter 2 Exercises - End to End Machine Learning Project\n",
        "\n",
        "---\n",
        "\n",
        "* **1. Using this chapter's housing dataset, try a Support Vector Machine regressor (`sklearn.svm.SVR`) with various hyperparameters such as `kernel='linear'` (with various values for the C hyperparameter) or `kernel='rbf'` (with various values for the C and `gamma` hyperparameters). Don't worry what these hyperparameters mean for now. How does the best SVR predictor perform?**\n",
        "\n",
        "This first cell fetches the housing data and imports all the packages needed in this notebook. We'll skip all the visualisation since the exercises are based on the modelling aspect of the process."
      ]
    },
    {
      "metadata": {
        "id": "btMRYwBh8vl4",
        "colab_type": "code",
        "outputId": "814486c7-86db-4f1d-cf60-3011a92f2730",
        "colab": {
          "base_uri": "https://localhost:8080/",
          "height": 224
        }
      },
      "cell_type": "code",
      "source": [
        "import os\n",
        "import tarfile\n",
        "from six.moves import urllib\n",
        "import pandas as pd\n",
        "import numpy as np\n",
        "from sklearn.model_selection import StratifiedShuffleSplit\n",
        "from sklearn.impute import SimpleImputer\n",
        "from sklearn.preprocessing import OneHotEncoder\n",
        "from sklearn.base import BaseEstimator, TransformerMixin\n",
        "from sklearn.pipeline import Pipeline\n",
        "from sklearn.preprocessing import StandardScaler\n",
        "from sklearn.compose import ColumnTransformer\n",
        "from sklearn.svm import SVR\n",
        "from sklearn.model_selection import GridSearchCV\n",
        "from sklearn.metrics import mean_squared_error\n",
        "from sklearn.model_selection import RandomizedSearchCV\n",
        "from sklearn.ensemble import RandomForestRegressor\n",
        "import matplotlib.pyplot as plt\n",
        "import scipy.stats as ss\n",
        "\n",
        "DOWNLOAD_ROOT = 'https://raw.githubusercontent.com/ageron/handson-ml/master/'\n",
        "HOUSING_PATH = os.path.join('datasets', 'housing')\n",
        "HOUSING_URL = DOWNLOAD_ROOT+'datasets/housing/housing.tgz'\n",
        "\n",
        "def fetch_housing_data(housing_url=HOUSING_URL, housing_path=HOUSING_PATH):\n",
        "    if not os.path.isdir(housing_path):\n",
        "        os.makedirs(housing_path)\n",
        "    tgz_path = os.path.join(housing_path, 'housing.tgz')\n",
        "    urllib.request.urlretrieve(housing_url, tgz_path)\n",
        "    housing_tgz = tarfile.open(tgz_path)\n",
        "    housing_tgz.extractall(path=housing_path)\n",
        "    housing_tgz.close()\n",
        "    \n",
        "def load_housing_data(housing_path=HOUSING_PATH):\n",
        "    csv_path = os.path.join(housing_path, 'housing.csv')\n",
        "    return(pd.read_csv(csv_path))\n",
        "\n",
        "fetch_housing_data()\n",
        "housing = load_housing_data()\n",
        "housing.head()"
      ],
      "execution_count": 1,
      "outputs": [
        {
          "output_type": "execute_result",
          "data": {
            "text/html": [
              "<div>\n",
              "<style scoped>\n",
              "    .dataframe tbody tr th:only-of-type {\n",
              "        vertical-align: middle;\n",
              "    }\n",
              "\n",
              "    .dataframe tbody tr th {\n",
              "        vertical-align: top;\n",
              "    }\n",
              "\n",
              "    .dataframe thead th {\n",
              "        text-align: right;\n",
              "    }\n",
              "</style>\n",
              "<table border=\"1\" class=\"dataframe\">\n",
              "  <thead>\n",
              "    <tr style=\"text-align: right;\">\n",
              "      <th></th>\n",
              "      <th>longitude</th>\n",
              "      <th>latitude</th>\n",
              "      <th>housing_median_age</th>\n",
              "      <th>total_rooms</th>\n",
              "      <th>total_bedrooms</th>\n",
              "      <th>population</th>\n",
              "      <th>households</th>\n",
              "      <th>median_income</th>\n",
              "      <th>median_house_value</th>\n",
              "      <th>ocean_proximity</th>\n",
              "    </tr>\n",
              "  </thead>\n",
              "  <tbody>\n",
              "    <tr>\n",
              "      <th>0</th>\n",
              "      <td>-122.23</td>\n",
              "      <td>37.88</td>\n",
              "      <td>41.0</td>\n",
              "      <td>880.0</td>\n",
              "      <td>129.0</td>\n",
              "      <td>322.0</td>\n",
              "      <td>126.0</td>\n",
              "      <td>8.3252</td>\n",
              "      <td>452600.0</td>\n",
              "      <td>NEAR BAY</td>\n",
              "    </tr>\n",
              "    <tr>\n",
              "      <th>1</th>\n",
              "      <td>-122.22</td>\n",
              "      <td>37.86</td>\n",
              "      <td>21.0</td>\n",
              "      <td>7099.0</td>\n",
              "      <td>1106.0</td>\n",
              "      <td>2401.0</td>\n",
              "      <td>1138.0</td>\n",
              "      <td>8.3014</td>\n",
              "      <td>358500.0</td>\n",
              "      <td>NEAR BAY</td>\n",
              "    </tr>\n",
              "    <tr>\n",
              "      <th>2</th>\n",
              "      <td>-122.24</td>\n",
              "      <td>37.85</td>\n",
              "      <td>52.0</td>\n",
              "      <td>1467.0</td>\n",
              "      <td>190.0</td>\n",
              "      <td>496.0</td>\n",
              "      <td>177.0</td>\n",
              "      <td>7.2574</td>\n",
              "      <td>352100.0</td>\n",
              "      <td>NEAR BAY</td>\n",
              "    </tr>\n",
              "    <tr>\n",
              "      <th>3</th>\n",
              "      <td>-122.25</td>\n",
              "      <td>37.85</td>\n",
              "      <td>52.0</td>\n",
              "      <td>1274.0</td>\n",
              "      <td>235.0</td>\n",
              "      <td>558.0</td>\n",
              "      <td>219.0</td>\n",
              "      <td>5.6431</td>\n",
              "      <td>341300.0</td>\n",
              "      <td>NEAR BAY</td>\n",
              "    </tr>\n",
              "    <tr>\n",
              "      <th>4</th>\n",
              "      <td>-122.25</td>\n",
              "      <td>37.85</td>\n",
              "      <td>52.0</td>\n",
              "      <td>1627.0</td>\n",
              "      <td>280.0</td>\n",
              "      <td>565.0</td>\n",
              "      <td>259.0</td>\n",
              "      <td>3.8462</td>\n",
              "      <td>342200.0</td>\n",
              "      <td>NEAR BAY</td>\n",
              "    </tr>\n",
              "  </tbody>\n",
              "</table>\n",
              "</div>"
            ],
            "text/plain": [
              "   longitude  latitude  housing_median_age  total_rooms  total_bedrooms  \\\n",
              "0    -122.23     37.88                41.0        880.0           129.0   \n",
              "1    -122.22     37.86                21.0       7099.0          1106.0   \n",
              "2    -122.24     37.85                52.0       1467.0           190.0   \n",
              "3    -122.25     37.85                52.0       1274.0           235.0   \n",
              "4    -122.25     37.85                52.0       1627.0           280.0   \n",
              "\n",
              "   population  households  median_income  median_house_value ocean_proximity  \n",
              "0       322.0       126.0         8.3252            452600.0        NEAR BAY  \n",
              "1      2401.0      1138.0         8.3014            358500.0        NEAR BAY  \n",
              "2       496.0       177.0         7.2574            352100.0        NEAR BAY  \n",
              "3       558.0       219.0         5.6431            341300.0        NEAR BAY  \n",
              "4       565.0       259.0         3.8462            342200.0        NEAR BAY  "
            ]
          },
          "metadata": {
            "tags": []
          },
          "execution_count": 1
        }
      ]
    },
    {
      "metadata": {
        "id": "6ayKLDaK9t-o",
        "colab_type": "text"
      },
      "cell_type": "markdown",
      "source": [
        "Next we split the data in training and test sets using `StratifiedShuffleSplit`, a stratified sampling method based on income categories in this case."
      ]
    },
    {
      "metadata": {
        "id": "HcAAO3Rt9qsF",
        "colab_type": "code",
        "colab": {}
      },
      "cell_type": "code",
      "source": [
        "housing['income_cat'] = np.ceil(housing['median_income'] / 1.5)\n",
        "housing['income_cat'].where(housing['income_cat'] < 5, 5.0, inplace=True)\n",
        "\n",
        "split = StratifiedShuffleSplit(n_splits=1, test_size=0.2, random_state=42)\n",
        "for train_index, test_index in split.split(housing, housing['income_cat']):\n",
        "    strat_train_set = housing.loc[train_index]\n",
        "    strat_test_set = housing.loc[test_index]\n",
        "    \n",
        "for set_ in (strat_train_set, strat_test_set):\n",
        "    set_.drop('income_cat', axis=1, inplace=True)"
      ],
      "execution_count": 0,
      "outputs": []
    },
    {
      "metadata": {
        "id": "LZmRFtfj_IiO",
        "colab_type": "text"
      },
      "cell_type": "markdown",
      "source": [
        "Next we prepare the data for modelling by imputing missing values, scaling the data, feature engineering and encoding the non numerical variable, then placing all of these steps in a preprocessing pipeline."
      ]
    },
    {
      "metadata": {
        "id": "J4JaOlVa_ZhB",
        "colab_type": "code",
        "colab": {}
      },
      "cell_type": "code",
      "source": [
        "housing = strat_train_set.drop(\"median_house_value\", axis=1)                     # drop labels for training set\n",
        "housing_labels = strat_train_set[\"median_house_value\"].copy()\n",
        "\n",
        "housing_num = housing.drop('ocean_proximity', axis=1)                            # separating the numerical features from the categorical 'ocean_proximity' feature\n",
        "housing_cat = housing[['ocean_proximity']]\n",
        "\n",
        "\n",
        "rooms_ix, bedrooms_ix, population_ix, household_ix = 3, 4, 5, 6                  #column indices\n",
        "\n",
        "class CombinedAttributesAdder(BaseEstimator, TransformerMixin):\n",
        "    def __init__(self, add_bedrooms_per_room = True):                            # ()no *args or **kargs) creating a custom transformer class to add extra attributes\n",
        "        self.add_bedrooms_per_room = add_bedrooms_per_room\n",
        "    def fit(self, X, y=None):\n",
        "        return self  # nothing else to do\n",
        "    def transform(self, X, y=None):\n",
        "        rooms_per_household = X[:, rooms_ix] / X[:, household_ix]\n",
        "        population_per_household = X[:, population_ix] / X[:, household_ix]\n",
        "        if self.add_bedrooms_per_room:\n",
        "            bedrooms_per_room = X[:, bedrooms_ix] / X[:, rooms_ix]\n",
        "            return np.c_[X, rooms_per_household, population_per_household,\n",
        "                         bedrooms_per_room]\n",
        "        else:\n",
        "            return np.c_[X, rooms_per_household, population_per_household]\n",
        "        \n",
        "num_pipeline = Pipeline([\n",
        "        ('imputer', SimpleImputer(strategy=\"median\")),                           # pipeline for numerical preprocessing\n",
        "        ('attribs_adder', CombinedAttributesAdder()),\n",
        "        ('std_scaler', StandardScaler()),\n",
        "    ])\n",
        "\n",
        "num_attribs = list(housing_num)                                                  # full pipeline including numerical and categorical preprocessing steps\n",
        "cat_attribs = [\"ocean_proximity\"]\n",
        "\n",
        "full_pipeline = ColumnTransformer([\n",
        "        (\"num\", num_pipeline, num_attribs),\n",
        "        (\"cat\", OneHotEncoder(), cat_attribs),\n",
        "    ])\n",
        "\n",
        "housing_prepared = full_pipeline.fit_transform(housing)"
      ],
      "execution_count": 0,
      "outputs": []
    },
    {
      "metadata": {
        "id": "nirk8Um8D-6Z",
        "colab_type": "text"
      },
      "cell_type": "markdown",
      "source": [
        "Now the data is preprocessed as in the book, we can go ahead and tackle the exercise."
      ]
    },
    {
      "metadata": {
        "id": "x2DU7JaqEpaq",
        "colab_type": "code",
        "outputId": "69aa2ed2-5a06-4e66-e7bd-3983520bd93c",
        "colab": {
          "base_uri": "https://localhost:8080/",
          "height": 119
        }
      },
      "cell_type": "code",
      "source": [
        "param_grid = [\n",
        "    {'kernel':['rbf'], 'C':[10, 100], 'gamma':[0.001, 0.01]},                    # try these values of C and gamma for 'rbf' kernel\n",
        "    {'kernel':['linear'], 'C':[10, 100]},                                        # try these values of C for 'linear' kernel\n",
        "]\n",
        "\n",
        "svr = SVR()\n",
        "grid_search = GridSearchCV(svr, param_grid, cv=4, \n",
        "                           scoring='neg_mean_squared_error',\n",
        "                           return_train_score=True, n_jobs=-1, verbose=True)\n",
        "grid_search.fit(housing_prepared, housing_labels)\n",
        "print(grid_search.best_params_)\n",
        "\n",
        "housing_predictions = grid_search.predict(housing_prepared)\n",
        "svr_mse = mean_squared_error(housing_labels, housing_predictions)\n",
        "svr_rmse = np.sqrt(svr_mse)\n",
        "print(\"\\nRMSE for the SVR model is £\", svr_rmse)"
      ],
      "execution_count": 4,
      "outputs": [
        {
          "output_type": "stream",
          "text": [
            "Fitting 4 folds for each of 6 candidates, totalling 24 fits\n"
          ],
          "name": "stdout"
        },
        {
          "output_type": "stream",
          "text": [
            "[Parallel(n_jobs=-1)]: Using backend LokyBackend with 2 concurrent workers.\n",
            "[Parallel(n_jobs=-1)]: Done  24 out of  24 | elapsed:  5.1min finished\n"
          ],
          "name": "stderr"
        },
        {
          "output_type": "stream",
          "text": [
            "{'C': 100, 'kernel': 'linear'}\n",
            "\n",
            "RMSE for the SVR model is £ 71261.20809409635\n"
          ],
          "name": "stdout"
        }
      ]
    },
    {
      "metadata": {
        "id": "DrsJpAiWIPWX",
        "colab_type": "text"
      },
      "cell_type": "markdown",
      "source": [
        "This RMSE is worse than the Random Forest model used in the book, and actually it's also worse than the linear model tested. The `'linear'` kernel seems to perform better, as did higher values of C; even higher C values may improve the accuracy slightly.\n",
        "\n",
        "* **2. Try replacing `GridSearchCV` with `RandomizedSearchCV`.**"
      ]
    },
    {
      "metadata": {
        "id": "_CuQ7cJTLT-c",
        "colab_type": "code",
        "outputId": "05e6f7cb-55b5-48fa-9010-599a0ee24898",
        "colab": {
          "base_uri": "https://localhost:8080/",
          "height": 119
        }
      },
      "cell_type": "code",
      "source": [
        "param_dist = {'kernel':['rbf', 'linear'], 'C':ss.randint(10, 101), \n",
        "              'gamma':ss.uniform(0.001, 0.01)}\n",
        "\n",
        "random_search = RandomizedSearchCV(svr, param_distributions=param_dist, \n",
        "                                   n_iter=6, cv=4, \n",
        "                                   scoring='neg_mean_squared_error', \n",
        "                                   return_train_score=True, n_jobs=-1, \n",
        "                                   verbose=True)\n",
        "random_search.fit(housing_prepared, housing_labels)\n",
        "print(random_search.best_params_)\n",
        "\n",
        "housing_predictions = random_search.predict(housing_prepared)\n",
        "svr_mse = mean_squared_error(housing_labels, housing_predictions)\n",
        "svr_rmse = np.sqrt(svr_mse)\n",
        "print(\"\\nRMSE for the SVR model is £\", svr_rmse)"
      ],
      "execution_count": 5,
      "outputs": [
        {
          "output_type": "stream",
          "text": [
            "Fitting 4 folds for each of 6 candidates, totalling 24 fits\n"
          ],
          "name": "stdout"
        },
        {
          "output_type": "stream",
          "text": [
            "[Parallel(n_jobs=-1)]: Using backend LokyBackend with 2 concurrent workers.\n",
            "[Parallel(n_jobs=-1)]: Done  24 out of  24 | elapsed:  4.2min finished\n"
          ],
          "name": "stderr"
        },
        {
          "output_type": "stream",
          "text": [
            "{'C': 94, 'gamma': 0.0012143387535570528, 'kernel': 'linear'}\n",
            "\n",
            "RMSE for the SVR model is £ 71324.84116336444\n"
          ],
          "name": "stdout"
        }
      ]
    },
    {
      "metadata": {
        "id": "VB4hc4VEgpfk",
        "colab_type": "text"
      },
      "cell_type": "markdown",
      "source": [
        "As discussed before, higher C values would likely result in better accuracy, but using the same values gives a good example of how `RandomizedSearchCV` tends to return hyperparameters which give the same, or better, performance than `GridSearchCV` in less time, as can be seen from the time elapsed.\n",
        "\n",
        "The only difference in the solution given in the book is that instead of using `scipy.stats.randint` and `scipy.stats.uniform` for the random number selection distributions, it uses `scipy.stats.expon` and `scipy.stats.reciprocal`.\n",
        "\n",
        "`expon` is used for `gamma` and is best used when you have some idea of what value the parameter should have, as most of the values fall between a relatively narrow range. Conversely, `reciprocal` is used here for C, and is best implemented when you have no idea of the hyperparameter scale, as all scales within the distribution are equally likely, as seen in the log plot. "
      ]
    },
    {
      "metadata": {
        "id": "a6PWPU45sNkn",
        "colab_type": "code",
        "outputId": "e0ebf08e-4998-437b-9bf7-248d58d27a05",
        "colab": {
          "base_uri": "https://localhost:8080/",
          "height": 437
        }
      },
      "cell_type": "code",
      "source": [
        "expon_distrib = ss.expon(scale=1.)\n",
        "samples = expon_distrib.rvs(10000, random_state=42)\n",
        "plt.figure(figsize=(12, 6))\n",
        "plt.subplot(221)\n",
        "plt.title(\"Exponential distribution (scale=1.0)\")\n",
        "plt.hist(samples, bins=50)\n",
        "plt.subplot(222)\n",
        "plt.title(\"Log of reciprocal distribution\")\n",
        "plt.hist(np.log(samples), bins=50)\n",
        "\n",
        "reciprocal_distrib = ss.reciprocal(20, 200000)\n",
        "samples = reciprocal_distrib.rvs(10000, random_state=42)\n",
        "plt.subplot(223)\n",
        "plt.title(\"Reciprocal distribution (scale=1.0)\")\n",
        "plt.hist(samples, bins=50)\n",
        "plt.subplot(224)\n",
        "plt.title(\"Log of reciprocal distribution\")\n",
        "plt.hist(np.log(samples), bins=50)\n",
        "\n",
        "plt.tight_layout()\n",
        "plt.show()"
      ],
      "execution_count": 6,
      "outputs": [
        {
          "output_type": "display_data",
          "data": {
            "image/png": "[encoded data removed]",
            "text/plain": [
              "<Figure size 864x432 with 4 Axes>"
            ]
          },
          "metadata": {
            "tags": []
          }
        }
      ]
    },
    {
      "metadata": {
        "id": "hmgvcLZQuEJD",
        "colab_type": "text"
      },
      "cell_type": "markdown",
      "source": [
        "* **3. Try adding a transformer in the preparation pipeline to select only the most important attributes.**\n",
        "\n",
        "The first step is to find which features are most important; this can be done by training a Random Forest Regressor and returning the feature importances directly."
      ]
    },
    {
      "metadata": {
        "id": "7V6WrpFE5Ziq",
        "colab_type": "code",
        "outputId": "21480d64-d9f3-4ec3-b4a0-c4389b7ad60c",
        "colab": {
          "base_uri": "https://localhost:8080/",
          "height": 51
        }
      },
      "cell_type": "code",
      "source": [
        "extra_attribs = [\"rooms_per_hhold\", \"pop_per_hhold\", \"bedrooms_per_room\"]        # getting the attribute names, including the original and new ones from feature\n",
        "cat_encoder = full_pipeline.named_transformers_[\"cat\"]                           # engineering and one hot encoding\n",
        "cat_one_hot_attribs = list(cat_encoder.categories_[0])\n",
        "attributes = np.array(num_attribs + extra_attribs + cat_one_hot_attribs)\n",
        "\n",
        "rf = RandomForestRegressor(n_estimators=10).fit(housing_prepared, housing_labels)\n",
        "feat_imp = rf.feature_importances_\n",
        "\n",
        "def sort_feat_importance(feat_imps, n):                                          # returns column indices of top n most important features\n",
        "    top_n_feat_imps_idx = np.argsort(feat_imps)[::-1]\n",
        "    top_n_feat_imps_idx = top_n_feat_imps_idx[:n]\n",
        "    return(top_n_feat_imps_idx)\n",
        "\n",
        "test_arr = sort_feat_importance(feat_imp, 5)                                     # testing the above function works correctly\n",
        "print(test_arr)\n",
        "print(attributes[test_arr])"
      ],
      "execution_count": 7,
      "outputs": [
        {
          "output_type": "stream",
          "text": [
            "[ 7 12  9  0  1]\n",
            "['median_income' 'INLAND' 'pop_per_hhold' 'longitude' 'latitude']\n"
          ],
          "name": "stdout"
        }
      ]
    },
    {
      "metadata": {
        "id": "RVoC-GXFskEj",
        "colab_type": "text"
      },
      "cell_type": "markdown",
      "source": [
        "Next we create a custom transformer to select these top features and insert the new transformer class into the pipeline. Finally, we do a check to assert that the transformer has worked, and the values in the `housing_prepared_top_features` array are identical to those returned if we select the top five most important features in the `housing_prepared` array manually."
      ]
    },
    {
      "metadata": {
        "id": "T61aEY8Otx25",
        "colab_type": "code",
        "colab": {}
      },
      "cell_type": "code",
      "source": [
        "class ImportantFeatureSelector(BaseEstimator, TransformerMixin):                 # creating a transformer class to select the top five features\n",
        "    def __init__(self, feature_imps, n):\n",
        "        self.feature_imps = feature_imps\n",
        "        self.n = n\n",
        "    def fit(self, X, y=None):\n",
        "        self.feature_idx_ = sort_feat_importance(self.feature_imps, \n",
        "                                                 self.n)\n",
        "        return self\n",
        "    def transform(self, X, y=None):\n",
        "        return X[:, self.feature_idx_]\n",
        "        \n",
        "top_feature_pipeline = Pipeline([                                                # creating a pipeline consisting of the original pipeline, plus the new transformer\n",
        "        ('full_pipeline', full_pipeline),\n",
        "        ('important_feat_select', ImportantFeatureSelector(feat_imp, 5)),    \n",
        "    ])\n",
        "\n",
        "housing_prepared_top_features = top_feature_pipeline.fit_transform(housing)"
      ],
      "execution_count": 0,
      "outputs": []
    },
    {
      "metadata": {
        "id": "ttnGA_6Joedl",
        "colab_type": "code",
        "colab": {
          "base_uri": "https://localhost:8080/",
          "height": 34
        },
        "outputId": "7edcf489-1f78-41b6-c41a-797d79c61833"
      },
      "cell_type": "code",
      "source": [
        "while True:\n",
        "    try:\n",
        "        np.testing.assert_array_equal(housing_prepared_top_features[0:3], \n",
        "                                  housing_prepared[0:3, test_arr])\n",
        "        print('Feature selection successful, output values are correct')\n",
        "        break\n",
        "    except AssertionError:\n",
        "            print('Unsuccessful transformation, output values incorrect')"
      ],
      "execution_count": 10,
      "outputs": [
        {
          "output_type": "stream",
          "text": [
            "Feature selection successful, output values are correct\n"
          ],
          "name": "stdout"
        }
      ]
    },
    {
      "metadata": {
        "id": "bsBOYMqqtU6k",
        "colab_type": "text"
      },
      "cell_type": "markdown",
      "source": [
        "* **4.Try creating a single pipeline that does the full data preparation plus the final prediction.**\n",
        "\n",
        "Now we create a pipeline consisting of all the preprocessing steps, followed by a prediction using the best SVM model found during the very brief and non-exhaustive random search undertaken."
      ]
    },
    {
      "metadata": {
        "id": "rw2GuHnVzziK",
        "colab_type": "code",
        "colab": {
          "base_uri": "https://localhost:8080/",
          "height": 34
        },
        "outputId": "3c5b2b18-2b11-49dc-a97f-375e90d534ce"
      },
      "cell_type": "code",
      "source": [
        "prep_and_predict = Pipeline([\n",
        "    ('full_pipeline', full_pipeline),\n",
        "    ('important_feat_select', ImportantFeatureSelector(feat_imp, 5)),\n",
        "    ('prediction', SVR(**random_search.best_params_))\n",
        "])\n",
        "\n",
        "housing_prepared_pipeline = prep_and_predict.fit(housing, housing_labels)\n",
        "mse_pipeline = mean_squared_error(housing_prepared_pipeline.predict(housing), \n",
        "                                  housing_labels)\n",
        "rmse_pipeline = np.sqrt(mse_pipeline)\n",
        "print('RMSE of predictions is £', rmse_pipeline)"
      ],
      "execution_count": 11,
      "outputs": [
        {
          "output_type": "stream",
          "text": [
            "RMSE of predictions is £ 76226.1495473514\n"
          ],
          "name": "stdout"
        }
      ]
    },
    {
      "metadata": {
        "id": "7fJkKePX6Leq",
        "colab_type": "text"
      },
      "cell_type": "markdown",
      "source": [
        "* **5. Automatically explore some preparation options using GridSearchCV.**\n",
        "\n",
        "Now we can try treating the feature selector as a hyperparameter, selecting the top 'n' features and comparing how model performance reacts to changing the number used in the modelling process."
      ]
    },
    {
      "metadata": {
        "id": "1V81g4NrB85r",
        "colab_type": "code",
        "colab": {
          "base_uri": "https://localhost:8080/",
          "height": 102
        },
        "outputId": "7d9fab72-47bb-4f65-8086-31935dde7d91"
      },
      "cell_type": "code",
      "source": [
        "param_grid = {\n",
        "        'important_feat_select__n': [2,4,6],\n",
        "        'prediction__C':[100],\n",
        "        'prediction__kernel':['linear']\n",
        "}\n",
        "\n",
        "feature_search = GridSearchCV(prep_and_predict, param_grid, cv=4, verbose=True)\n",
        "feature_search.fit(housing, housing_labels)\n",
        "mse_feat_search = mean_squared_error(feature_search.predict(housing), \n",
        "                                  housing_labels)\n",
        "rmse_feat_search = np.sqrt(mse_feat_search)\n",
        "print('RMSE of predictions is £', rmse_feat_search)\n",
        "print(feature_search.best_params_)"
      ],
      "execution_count": 12,
      "outputs": [
        {
          "output_type": "stream",
          "text": [
            "Fitting 4 folds for each of 3 candidates, totalling 12 fits\n"
          ],
          "name": "stdout"
        },
        {
          "output_type": "stream",
          "text": [
            "[Parallel(n_jobs=1)]: Using backend SequentialBackend with 1 concurrent workers.\n",
            "[Parallel(n_jobs=1)]: Done  12 out of  12 | elapsed:  1.6min finished\n"
          ],
          "name": "stderr"
        },
        {
          "output_type": "stream",
          "text": [
            "RMSE of predictions is £ 77472.41326994429\n",
            "{'important_feat_select__n': 2, 'prediction__C': 100, 'prediction__kernel': 'linear'}\n"
          ],
          "name": "stdout"
        }
      ]
    },
    {
      "metadata": {
        "id": "4ex-X4QLFEr4",
        "colab_type": "text"
      },
      "cell_type": "markdown",
      "source": [
        "So we can see from the GridSearch that the best approach out of the options given was to keep only two features from the data, probably due to the fact that the first two features have much higher importances than the others. The book notes that the optimal solution is using 15 of the 16 features, but sampling 16 different possibilities with 5-fold cross validation would take about 20-30 minutes so to save time I've only chosen three values of n here, just to prove the concept."
      ]
    }
  ]
}