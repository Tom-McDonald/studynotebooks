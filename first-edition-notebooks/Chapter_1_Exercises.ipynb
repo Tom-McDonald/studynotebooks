{
  "nbformat": 4,
  "nbformat_minor": 0,
  "metadata": {
    "colab": {
      "name": "Chapter 1 Exercises.ipynb",
      "version": "0.3.2",
      "provenance": [],
      "collapsed_sections": [],
      "include_colab_link": true
    },
    "kernelspec": {
      "name": "python3",
      "display_name": "Python 3"
    }
  },
  "cells": [
    {
      "cell_type": "markdown",
      "metadata": {
        "id": "view-in-github",
        "colab_type": "text"
      },
      "source": [
        "<a href=\"https://colab.research.google.com/github/Tom-McDonald/studynotebooks/blob/master/Chapter_1_Exercises.ipynb\" target=\"_parent\"><img src=\"https://colab.research.google.com/assets/colab-badge.svg\" alt=\"Open In Colab\"/></a>"
      ]
    },
    {
      "metadata": {
        "id": "4P1ffEj1nuti",
        "colab_type": "text"
      },
      "cell_type": "markdown",
      "source": [
        "## Chapter 1 Exercises - The Machine Learning Landscape\n",
        "\n",
        "---\n",
        "\n",
        "* **1. How would you define Machine Learning?**\n",
        "\n",
        "> Computational programs/algorithms which learn from data, updating their parameters to fit the training data being fed into them, improving their predictive power in the process against a given performance measure.\n",
        "\n",
        "* **2. Can you name four kinds of problem where it shines?**\n",
        "\n",
        "> ML is great for complex problems for which we have no algorithmic solution, to replace long lists of hand-tuned rules, to build systems that adapt to fluctuating environments, and finally to help humans learn (e.g. data mining).\n",
        "\n",
        "* **3. What is a labeled training set?**\n",
        "\n",
        "> A data set where each instance/observation contains a number of features, but is also labelled with a 'target variable'. For example, a dataset containing height and weight of baseball and football players may be labelled with a binary target variable, with 0 denoting a baseball player and 1 denoting a football player.\n",
        "\n",
        "* **4. What are the two most common supervised learning tasks?**\n",
        "\n",
        "> Regression and Classification.\n",
        "\n",
        "* **5. Can you name four common unsupervised tasks?**\n",
        "\n",
        "> Clustering (e.g. k-Means, Hierarchical Cluster Analysis (HCA), Expectation Maximization), Visualisation & Dimensionality Reduction (e.g. PCA, Kernel PCA, Locally Linear Embedding (LLE), t-distributed Stochastic Neighbor Embedding (t-SNE)) and Association Rule Learning (e.g. Apriori, Eclat).\n",
        "\n",
        "* **6. What type of Machine Learning algorithm would you use to allow a robot to walk in various unknown terrains?**\n",
        "\n",
        "> Whilst supervised/semisupervised models may be possible, the best solution would be a reinforcement learning model, which would 'reward' the robot for performing well on the terrain and vice versa.\n",
        "\n",
        "* **7. What type of algorithm would you use to segment your customers into groups?**\n",
        "\n",
        "> If the segments are known, a supervised classification algorithm such as k-Nearest Neighbors, or if the clusters are unknown, an unsupervised clustering algorithm such as k-Means would be best.\n",
        "\n",
        "* **8. Would you frame the problem of spam detection as unsupervised or supervised learning?**\n",
        "\n",
        "> Supervised, as the system should be trained on emails which are labelled either as spam, or not spam.\n",
        "\n",
        "* **9. What is an online learning system?**\n",
        "\n",
        "> Online learning systems are trained incrementally as data is fed into them in chunks in real time, so the model reacts to changing conditions by constantly retraining itself as new data is fed in. This makes it much better at training on large datasets compared to batch systems, which must be fed all of the data at once to be retrained.\n",
        "\n",
        "* **10. What is out-of-core learning?**\n",
        "\n",
        "> Out-of-core learning algorithms are how online learning is able to take place; the model can be re-trained by splitting up the training set and feeding in chunks of data one at a time, allowing huge datasets to be processed effectively.\n",
        "\n",
        "* **11. What type of learning algorithm relies on a similarity measure to make predictions?**\n",
        "\n",
        "> Instance based learning, where instances (i.e. spam emails) are loaded into the system and the system classifies new emails as spam or not based on their similarity to the learned instances.\n",
        "\n",
        "* **12. What is the difference between a model parameter and a learning algorithm hyperparameter?**\n",
        "\n",
        "> A model parameter is a feature of the the model that can be learned and adjusted by the estimator, such as the slope in a linear model or the weights of neurons in an artifical neural network. Conversely, a hyperparameter is a feature of the model which cannot be learned from the data but can be tweaked externally in order to improve the quality of the model when measured against a performance metric; the best values for these hyperparameters will vary depending on the data, e.g. number of estimators in a Random Forest model.\n",
        "\n",
        "* **13. What do model-based learning algorithms search for? What is the most common strategy they use to proceed? How do they make predictions?**\n",
        "\n",
        "> They search for the global minimum of the specified loss function, which will correspond to the best possible predictions. This is generally achieved using Stochastic Gradient Descent (SGD), which is making small changes to the model parameters, observing the effect and adjusting accordingly until a minimum is found. Once the parameters have been established via this method, test data is fed into the model in order to make predictions.\n",
        "\n",
        "* **14. Can you name four of the main challenges in Machine Learning?**\n",
        "\n",
        "> Over and under-fitting, lack of training data, poor data quality (missing values etc.), sampling bias/unrepresentative data and uninformative features.\n",
        "\n",
        "* **15. If your model performs well on training data but generalizes poorly to new instances, what is happening? Name three possible solutions to the issue**\n",
        "\n",
        "> The model is overfitting the training data. This could be solved by reducing the complexity of the model, obtaining more data to train on or reducing noise in the training data.\n",
        "\n",
        "* **16. What is a test set and why is it used?**\n",
        "\n",
        "> A test set is dataset aside before analysis and training is performed using the training set, which is then fed into the trained model in order to validate how well the model generalizes to unseen data against a performance metric.\n",
        "\n",
        "* **17. What is a validation set and why is it used?**\n",
        "\n",
        "> A second holdout set which is used to compare models, making it possible to select the best model and tune hyperparameters before using the final model on the test set. This eliminates the issue of overfitting the test set.\n",
        "\n",
        "* **18. What can go wrong if you tune hyperparameters with the test set?**\n",
        "\n",
        "> You may well end up overfitting the test data, so the model won't generalize well.\n",
        "\n",
        "* **19. What is cross validation and why is it preferable to a validation set?**\n",
        "\n",
        "> Cross validation splitting the training set into subsets and training different models on different combinations of these subsets, then validating them against the remaining parts. Once the hyperparameters and model type have been selected, the model is trained on the entire training set and then the generalized error is measured on the test set. This avoids the need to waste valuable data by setting 20% of the dataset aside for validation.\n"
      ]
    }
  ]
}